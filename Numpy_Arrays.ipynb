{
 "cells": [
  {
   "cell_type": "markdown",
   "id": "10130583-6bec-4b50-afa1-936f0a6ea39e",
   "metadata": {},
   "source": [
    "Array - Store a group of elements (or values) same datatype (Homegeneous data)\\\n",
    "Numpy_Array - Store a group of elements (or values) different datatype (Heterogeneous data)"
   ]
  },
  {
   "cell_type": "markdown",
   "id": "1cca9715-88a9-4653-a446-afd155e33c0a",
   "metadata": {},
   "source": [
    "Types of Array:\n",
    " - Single dimension arrays (or 1D arrays) -> These arrays represent only one row or one column of elements.\n",
    " - Multi-dimensional arrays (or 2D,3D arrays etc) -> These arrays represent more than one row and more than column of elements."
   ]
  },
  {
   "cell_type": "code",
   "execution_count": 8,
   "id": "bf66eaf3-30d2-453e-837a-9610f99c1cfc",
   "metadata": {},
   "outputs": [],
   "source": [
    "import numpy as np\n",
    "import pandas as pd\n",
    "#from numpy import *"
   ]
  },
  {
   "cell_type": "markdown",
   "id": "ac6c1d12-e0bd-4f02-a31e-6b42ac7cd45a",
   "metadata": {},
   "source": [
    "# 1. A Python program to create a simple array using numpy"
   ]
  },
  {
   "cell_type": "code",
   "execution_count": 6,
   "id": "92347a64-d700-4cc8-9d43-c7fba00d8403",
   "metadata": {},
   "outputs": [
    {
     "name": "stdout",
     "output_type": "stream",
     "text": [
      "[10 20 30 40 50]\n"
     ]
    }
   ],
   "source": [
    "array = np.array([10,20,30,40,50])\n",
    "print(array)"
   ]
  },
  {
   "cell_type": "markdown",
   "id": "abcb4cbd-69f1-4c82-a5ae-bc9d0a00b04f",
   "metadata": {},
   "source": [
    "Create array using Numpy Package (or Folder) \n",
    "1. array()\n",
    "2. linspace()\n",
    "3. arange()\n",
    "4. zeros() and\n",
    "5. ones()"
   ]
  },
  {
   "cell_type": "markdown",
   "id": "a28c1651-e1b8-41b7-b224-1bbe39a59163",
   "metadata": {},
   "source": [
    "# Creating Arrays using array()"
   ]
  },
  {
   "cell_type": "code",
   "execution_count": 14,
   "id": "5f944ccd-888e-4c21-b875-1f79cd95f15e",
   "metadata": {},
   "outputs": [
    {
     "name": "stdout",
     "output_type": "stream",
     "text": [
      "[10 20 30 40 50]\n"
     ]
    }
   ],
   "source": [
    "arr = array([10.5,20.6,30.5,40.2,50.1],int)\n",
    "print(arr)"
   ]
  },
  {
   "cell_type": "code",
   "execution_count": 16,
   "id": "df6feeee-dea4-46cc-9489-2ab0aeab2c58",
   "metadata": {},
   "outputs": [
    {
     "name": "stdout",
     "output_type": "stream",
     "text": [
      "[10. 20. 30. 40. 50.]\n"
     ]
    }
   ],
   "source": [
    "arr1 = array([10,20,30,40,50],float)\n",
    "print(arr1)"
   ]
  },
  {
   "cell_type": "code",
   "execution_count": 17,
   "id": "2388ea1a-e081-46e8-8f2b-d4e7b2b06b21",
   "metadata": {},
   "outputs": [
    {
     "name": "stdout",
     "output_type": "stream",
     "text": [
      "[10.5 20.  30.5 40.2 50. ]\n"
     ]
    }
   ],
   "source": [
    "arr2 = array([10.5,20,30.5,40.2,50])\n",
    "print(arr2)"
   ]
  },
  {
   "cell_type": "code",
   "execution_count": 18,
   "id": "9f7a51bc-4cbd-4309-bae2-826cdeda5d80",
   "metadata": {},
   "outputs": [
    {
     "name": "stdout",
     "output_type": "stream",
     "text": [
      "['a' 'b' 'c' 'd' 'e']\n"
     ]
    }
   ],
   "source": [
    "arr3 = array(['a','b','c','d','e'])\n",
    "print(arr3)"
   ]
  },
  {
   "cell_type": "code",
   "execution_count": 19,
   "id": "0f457182-7152-4d9f-a287-fce794e283ee",
   "metadata": {},
   "outputs": [
    {
     "data": {
      "text/plain": [
       "numpy.ndarray"
      ]
     },
     "execution_count": 19,
     "metadata": {},
     "output_type": "execute_result"
    }
   ],
   "source": [
    "type(arr3)"
   ]
  },
  {
   "cell_type": "code",
   "execution_count": 21,
   "id": "48e4c686-819a-4139-b0e9-78c884edadb8",
   "metadata": {},
   "outputs": [
    {
     "name": "stdout",
     "output_type": "stream",
     "text": [
      "['Kolkata' 'Delhi' 'Mumbai' 'Bangalore']\n"
     ]
    }
   ],
   "source": [
    "arr4 = array(['Kolkata','Delhi','Mumbai','Bangalore'],dtype=str)\n",
    "print(arr4)"
   ]
  },
  {
   "cell_type": "code",
   "execution_count": 22,
   "id": "32e80f5a-ef1d-41e0-87a6-42abdea85c76",
   "metadata": {},
   "outputs": [
    {
     "data": {
      "text/plain": [
       "numpy.ndarray"
      ]
     },
     "execution_count": 22,
     "metadata": {},
     "output_type": "execute_result"
    }
   ],
   "source": [
    "type(arr4)"
   ]
  },
  {
   "cell_type": "markdown",
   "id": "3f23ce6f-5c79-482f-86b1-445984cd11ac",
   "metadata": {},
   "source": [
    "# Creating Arrays using linspace()"
   ]
  },
  {
   "cell_type": "markdown",
   "id": "e726afd1-c96e-49f4-bc4b-86b0bae43f22",
   "metadata": {},
   "source": [
    "linspace(start,stop,n)"
   ]
  },
  {
   "cell_type": "code",
   "execution_count": 24,
   "id": "45144758-ced6-4bbc-a221-09a0393bd1f2",
   "metadata": {},
   "outputs": [
    {
     "name": "stdout",
     "output_type": "stream",
     "text": [
      "[ 0.   2.5  5.   7.5 10. ]\n"
     ]
    }
   ],
   "source": [
    "a = linspace(0,10,5)\n",
    "print(a)"
   ]
  },
  {
   "cell_type": "markdown",
   "id": "4b690874-f820-49e5-a691-e36e2f5daaf7",
   "metadata": {},
   "source": [
    "# Creating Arrays using logspace()"
   ]
  },
  {
   "cell_type": "markdown",
   "id": "da9f04ef-5bc7-4a35-b52d-bed485eb969a",
   "metadata": {},
   "source": [
    "logspace(start,end,n)"
   ]
  },
  {
   "cell_type": "code",
   "execution_count": 29,
   "id": "b2e4e538-3b6a-41d6-a5eb-6d7af6c3c5cb",
   "metadata": {},
   "outputs": [
    {
     "name": "stdout",
     "output_type": "stream",
     "text": [
      "[   10.            56.23413252   316.22776602  1778.27941004\n",
      " 10000.        ]\n"
     ]
    }
   ],
   "source": [
    "a = logspace(1,4,5) # 10 ** 1 to 10 ** 4\n",
    "print(a)"
   ]
  },
  {
   "cell_type": "code",
   "execution_count": 31,
   "id": "6277ca09-33d4-46a9-b8fe-55e2ce0fc3bd",
   "metadata": {},
   "outputs": [
    {
     "name": "stdout",
     "output_type": "stream",
     "text": [
      "10.0 56.2 316.2 1778.3 10000.0 "
     ]
    }
   ],
   "source": [
    "n = len(a)\n",
    "for i in range(n):\n",
    "    print('%.1f' % a[i],end=' ')"
   ]
  },
  {
   "cell_type": "markdown",
   "id": "3bcff4c4-1fe8-4726-b8da-57c537d39eb2",
   "metadata": {},
   "source": [
    "# Creating Arrays using arange()"
   ]
  },
  {
   "cell_type": "markdown",
   "id": "95e2cc5b-a033-4c3a-9f13-2195d6c63b26",
   "metadata": {},
   "source": [
    "arange(start,stop,step)"
   ]
  },
  {
   "cell_type": "code",
   "execution_count": 33,
   "id": "3006ac7f-be1c-4e13-ae05-05ad462a9467",
   "metadata": {},
   "outputs": [
    {
     "data": {
      "text/plain": [
       "array([0, 1, 2, 3, 4, 5, 6, 7, 8, 9])"
      ]
     },
     "execution_count": 33,
     "metadata": {},
     "output_type": "execute_result"
    }
   ],
   "source": [
    "arange(10)"
   ]
  },
  {
   "cell_type": "code",
   "execution_count": 34,
   "id": "695d4fed-3414-40d0-919a-4c48d9f5e8fa",
   "metadata": {},
   "outputs": [
    {
     "data": {
      "text/plain": [
       "array([5, 6, 7, 8, 9])"
      ]
     },
     "execution_count": 34,
     "metadata": {},
     "output_type": "execute_result"
    }
   ],
   "source": [
    "arange(5,10)"
   ]
  },
  {
   "cell_type": "code",
   "execution_count": 35,
   "id": "a6760a2b-6de0-4a08-8129-779759a19eec",
   "metadata": {},
   "outputs": [
    {
     "data": {
      "text/plain": [
       "array([1, 4, 7])"
      ]
     },
     "execution_count": 35,
     "metadata": {},
     "output_type": "execute_result"
    }
   ],
   "source": [
    "arange(1,10,3)"
   ]
  },
  {
   "cell_type": "code",
   "execution_count": 36,
   "id": "8c130249-e951-4bef-93af-aa1aa7356e69",
   "metadata": {},
   "outputs": [
    {
     "data": {
      "text/plain": [
       "array([10,  9,  8,  7,  6,  5,  4,  3,  2])"
      ]
     },
     "execution_count": 36,
     "metadata": {},
     "output_type": "execute_result"
    }
   ],
   "source": [
    "arange(10,1,-1)"
   ]
  },
  {
   "cell_type": "code",
   "execution_count": 37,
   "id": "ec2f8e19-4b5d-4e19-a284-fb720e26a44a",
   "metadata": {},
   "outputs": [
    {
     "data": {
      "text/plain": [
       "array([0. , 1.5, 3. , 4.5, 6. , 7.5, 9. ])"
      ]
     },
     "execution_count": 37,
     "metadata": {},
     "output_type": "execute_result"
    }
   ],
   "source": [
    "arange(0,10,1.5)"
   ]
  },
  {
   "cell_type": "code",
   "execution_count": 38,
   "id": "6ddb9357-8844-4137-9d65-a38679f9d696",
   "metadata": {},
   "outputs": [
    {
     "data": {
      "text/plain": [
       "array([2, 4, 6, 8])"
      ]
     },
     "execution_count": 38,
     "metadata": {},
     "output_type": "execute_result"
    }
   ],
   "source": [
    "arange(2,10,2)"
   ]
  },
  {
   "cell_type": "markdown",
   "id": "c02cf714-950a-4f4a-b752-8fd4728eb3eb",
   "metadata": {},
   "source": [
    "# Creating Arrays using zeros() and ones()"
   ]
  },
  {
   "cell_type": "markdown",
   "id": "a935169a-0551-4826-a201-81e9f47c292b",
   "metadata": {},
   "source": [
    "zeros(n,dtype)\\\n",
    "ones(n,dtype)"
   ]
  },
  {
   "cell_type": "code",
   "execution_count": 40,
   "id": "ea2148fe-2457-46c3-b901-f68f6ff9b196",
   "metadata": {},
   "outputs": [
    {
     "data": {
      "text/plain": [
       "array([0., 0., 0., 0., 0.])"
      ]
     },
     "execution_count": 40,
     "metadata": {},
     "output_type": "execute_result"
    }
   ],
   "source": [
    "zeros(5)"
   ]
  },
  {
   "cell_type": "code",
   "execution_count": 41,
   "id": "44545800-ee76-4d3e-95a5-666f3ce32445",
   "metadata": {},
   "outputs": [
    {
     "data": {
      "text/plain": [
       "array([0, 0, 0, 0, 0])"
      ]
     },
     "execution_count": 41,
     "metadata": {},
     "output_type": "execute_result"
    }
   ],
   "source": [
    "zeros(5,dtype=int)"
   ]
  },
  {
   "cell_type": "code",
   "execution_count": 42,
   "id": "360c8c0d-4f2b-4fae-b62d-6dcba5b71c10",
   "metadata": {},
   "outputs": [
    {
     "data": {
      "text/plain": [
       "array([1., 1., 1., 1., 1.])"
      ]
     },
     "execution_count": 42,
     "metadata": {},
     "output_type": "execute_result"
    }
   ],
   "source": [
    "ones(5)"
   ]
  },
  {
   "cell_type": "code",
   "execution_count": 43,
   "id": "36958127-88c1-41be-9bbc-17fa1f0a9793",
   "metadata": {},
   "outputs": [
    {
     "data": {
      "text/plain": [
       "array([1, 1, 1, 1, 1])"
      ]
     },
     "execution_count": 43,
     "metadata": {},
     "output_type": "execute_result"
    }
   ],
   "source": [
    "ones(5,dtype=int)"
   ]
  },
  {
   "cell_type": "markdown",
   "id": "04705bd4-9c09-4904-bdfd-9a13a47da8b3",
   "metadata": {},
   "source": [
    "# Mathematical Operations on Arrays"
   ]
  },
  {
   "cell_type": "markdown",
   "id": "f73f97b8-c45e-42c4-876b-8ad518ad5448",
   "metadata": {},
   "source": [
    "Vectorized Operations: \n",
    " - They are operations that are applied to an entire array (or a subset of it) in a single operation, \n",
    "rather than looping through each element individually.\n",
    " - Vectorized Operations are faster\n",
    " - Vectorized Operations are syntactical clear.\n",
    "\n",
    "https://numpy.org/doc/stable/reference/routines.math.html"
   ]
  },
  {
   "cell_type": "code",
   "execution_count": 44,
   "id": "a368e5aa-c1de-46b4-9d01-b987114c4060",
   "metadata": {},
   "outputs": [
    {
     "data": {
      "text/plain": [
       "array([10, 20, 30, 40, 50])"
      ]
     },
     "execution_count": 44,
     "metadata": {},
     "output_type": "execute_result"
    }
   ],
   "source": [
    "arr"
   ]
  },
  {
   "cell_type": "code",
   "execution_count": 46,
   "id": "eb320d63-2b49-4eb1-a4ad-3e1452b9c07e",
   "metadata": {},
   "outputs": [
    {
     "data": {
      "text/plain": [
       "array([15, 25, 35, 45, 55])"
      ]
     },
     "execution_count": 46,
     "metadata": {},
     "output_type": "execute_result"
    }
   ],
   "source": [
    "# Addition\n",
    "arr + 5"
   ]
  },
  {
   "cell_type": "code",
   "execution_count": 47,
   "id": "44e3369a-859e-42ac-8db7-e34219087dbb",
   "metadata": {},
   "outputs": [
    {
     "data": {
      "text/plain": [
       "array([ 0, 10, 20, 30, 40])"
      ]
     },
     "execution_count": 47,
     "metadata": {},
     "output_type": "execute_result"
    }
   ],
   "source": [
    "# Substraction\n",
    "arr - 10"
   ]
  },
  {
   "cell_type": "code",
   "execution_count": 50,
   "id": "8932ed50-e440-409c-952c-4bc56c11190f",
   "metadata": {},
   "outputs": [
    {
     "data": {
      "text/plain": [
       "array([ 30,  60,  90, 120, 150])"
      ]
     },
     "execution_count": 50,
     "metadata": {},
     "output_type": "execute_result"
    }
   ],
   "source": [
    "# Production \n",
    "arr * 3"
   ]
  },
  {
   "cell_type": "code",
   "execution_count": 49,
   "id": "7c19128a-4e3f-4fa3-8d76-52a7800f1604",
   "metadata": {},
   "outputs": [
    {
     "data": {
      "text/plain": [
       "array([ 2.5,  5. ,  7.5, 10. , 12.5])"
      ]
     },
     "execution_count": 49,
     "metadata": {},
     "output_type": "execute_result"
    }
   ],
   "source": [
    "# Division\n",
    "arr / 4"
   ]
  },
  {
   "cell_type": "code",
   "execution_count": 51,
   "id": "78b9c450-29de-425e-8794-f513c658bb11",
   "metadata": {},
   "outputs": [
    {
     "data": {
      "text/plain": [
       "array([ 100,  400,  900, 1600, 2500])"
      ]
     },
     "execution_count": 51,
     "metadata": {},
     "output_type": "execute_result"
    }
   ],
   "source": [
    "# Exponential\n",
    "arr ** 2"
   ]
  },
  {
   "cell_type": "code",
   "execution_count": 53,
   "id": "1286ae6e-b15b-4f14-bcad-7c08221f8d53",
   "metadata": {},
   "outputs": [
    {
     "data": {
      "text/plain": [
       "array([-0.54402111,  0.91294525, -0.98803162,  0.74511316, -0.26237485])"
      ]
     },
     "execution_count": 53,
     "metadata": {},
     "output_type": "execute_result"
    }
   ],
   "source": [
    "sin(arr)"
   ]
  },
  {
   "cell_type": "code",
   "execution_count": 54,
   "id": "3a09517a-42d6-4032-8822-cc30472bd17d",
   "metadata": {},
   "outputs": [
    {
     "data": {
      "text/plain": [
       "array([2.30258509, 2.99573227, 3.40119738, 3.68887945, 3.91202301])"
      ]
     },
     "execution_count": 54,
     "metadata": {},
     "output_type": "execute_result"
    }
   ],
   "source": [
    "log(arr)"
   ]
  },
  {
   "cell_type": "code",
   "execution_count": 55,
   "id": "4cf27b42-3710-4b3c-b5a9-0213c006f945",
   "metadata": {},
   "outputs": [
    {
     "data": {
      "text/plain": [
       "array([-0.83907153,  0.40808206,  0.15425145, -0.66693806,  0.96496603])"
      ]
     },
     "execution_count": 55,
     "metadata": {},
     "output_type": "execute_result"
    }
   ],
   "source": [
    "cos(arr)"
   ]
  },
  {
   "cell_type": "code",
   "execution_count": 56,
   "id": "6473b794-8a88-47ea-a277-20ede108fe6d",
   "metadata": {},
   "outputs": [
    {
     "data": {
      "text/plain": [
       "150"
      ]
     },
     "execution_count": 56,
     "metadata": {},
     "output_type": "execute_result"
    }
   ],
   "source": [
    "sum(arr)"
   ]
  },
  {
   "cell_type": "markdown",
   "id": "6b3e72d4-7763-4215-bee0-9b820dbd1f2d",
   "metadata": {},
   "source": [
    "# Indexing and Slicing in numpy Arrays"
   ]
  },
  {
   "cell_type": "code",
   "execution_count": 62,
   "id": "4474d250-2099-49db-801a-daf64f8d7518",
   "metadata": {},
   "outputs": [
    {
     "name": "stdout",
     "output_type": "stream",
     "text": [
      "[ 1  3  5  7  9 11 13 15 17 19 21 23 25 27 29]\n",
      "\n",
      "[5 7 9]\n"
     ]
    }
   ],
   "source": [
    "a = arange(1,30,2)\n",
    "print(a)\n",
    "print()\n",
    "print(a[2:5])"
   ]
  },
  {
   "cell_type": "markdown",
   "id": "fc031e46-242a-4b8c-9964-0565d97d2c27",
   "metadata": {},
   "source": [
    "# Dimensions of Arrays"
   ]
  },
  {
   "cell_type": "code",
   "execution_count": 67,
   "id": "763a3a3b-c17c-445f-b774-40078a14990d",
   "metadata": {},
   "outputs": [
    {
     "name": "stdout",
     "output_type": "stream",
     "text": [
      "[10 20 33 30]\n",
      "\n",
      "[[1 3 4]\n",
      " [4 6 7]\n",
      " [6 3 4]]\n",
      "\n",
      "[[[1 2 3]\n",
      "  [2 3 1]]\n",
      "\n",
      " [[4 8 9]\n",
      "  [7 0 6]]]\n"
     ]
    }
   ],
   "source": [
    "arr_1d = array([10,20,33,30])\n",
    "arr_2d = array([[1,3,4],[4,6,7],[6,3,4]])\n",
    "arr_3d = array([[[1,2,3],[2,3,1]],[[4,8,9],[7,0,6]]])\n",
    "print(arr_1d)\n",
    "print()\n",
    "print(arr_2d)\n",
    "print()\n",
    "\n",
    "print(arr_3d)"
   ]
  },
  {
   "cell_type": "markdown",
   "id": "a9d4660b-46ea-41c4-8d64-e7da8aaf8921",
   "metadata": {},
   "source": [
    "# Attributes of an Array"
   ]
  },
  {
   "cell_type": "markdown",
   "id": "113be397-e13a-4498-92a7-cf3a0f31ab1a",
   "metadata": {},
   "source": [
    "-  numpy array class is called ndarray\n",
    "-  ndim()\n",
    "-  shape() -> no of dimensions,row,column\n",
    "-  size() -> Total no of elements in the array\n",
    "-  itemsize() -> Memory Size of the array element in bytes\n",
    "-  dtype\n",
    "-  nbytes\n",
    "-  reshape()\n",
    "-  flatten() -> convert 2D array to 1D array"
   ]
  },
  {
   "cell_type": "code",
   "execution_count": 68,
   "id": "684f4c05-d83c-430a-833e-cb570b65c291",
   "metadata": {},
   "outputs": [
    {
     "data": {
      "text/plain": [
       "3"
      ]
     },
     "execution_count": 68,
     "metadata": {},
     "output_type": "execute_result"
    }
   ],
   "source": [
    "ndim(arr_3d)"
   ]
  },
  {
   "cell_type": "code",
   "execution_count": 69,
   "id": "575d213f-c8be-46a9-a854-f98184840b04",
   "metadata": {},
   "outputs": [
    {
     "data": {
      "text/plain": [
       "1"
      ]
     },
     "execution_count": 69,
     "metadata": {},
     "output_type": "execute_result"
    }
   ],
   "source": [
    "ndim(arr_1d)"
   ]
  },
  {
   "cell_type": "code",
   "execution_count": 70,
   "id": "a778622d-574f-4c0e-88d9-26fcd504dba3",
   "metadata": {},
   "outputs": [
    {
     "data": {
      "text/plain": [
       "2"
      ]
     },
     "execution_count": 70,
     "metadata": {},
     "output_type": "execute_result"
    }
   ],
   "source": [
    "ndim(arr_2d)"
   ]
  },
  {
   "cell_type": "code",
   "execution_count": 71,
   "id": "a14041ed-8a54-40bc-a8a0-caaf0730ba95",
   "metadata": {},
   "outputs": [
    {
     "data": {
      "text/plain": [
       "(4,)"
      ]
     },
     "execution_count": 71,
     "metadata": {},
     "output_type": "execute_result"
    }
   ],
   "source": [
    "shape(arr_1d)"
   ]
  },
  {
   "cell_type": "code",
   "execution_count": 72,
   "id": "26a25861-8204-45df-8453-76d60bc48135",
   "metadata": {},
   "outputs": [
    {
     "data": {
      "text/plain": [
       "(3, 3)"
      ]
     },
     "execution_count": 72,
     "metadata": {},
     "output_type": "execute_result"
    }
   ],
   "source": [
    "shape(arr_2d)"
   ]
  },
  {
   "cell_type": "code",
   "execution_count": 73,
   "id": "5a910db9-2b0f-4871-af03-16688be9605c",
   "metadata": {},
   "outputs": [
    {
     "data": {
      "text/plain": [
       "(2, 2, 3)"
      ]
     },
     "execution_count": 73,
     "metadata": {},
     "output_type": "execute_result"
    }
   ],
   "source": [
    "shape(arr_3d)"
   ]
  },
  {
   "cell_type": "code",
   "execution_count": 74,
   "id": "9ace0b4f-8a63-4641-aeed-7cb2c8e74a2e",
   "metadata": {},
   "outputs": [
    {
     "data": {
      "text/plain": [
       "4"
      ]
     },
     "execution_count": 74,
     "metadata": {},
     "output_type": "execute_result"
    }
   ],
   "source": [
    "size(arr_1d)"
   ]
  },
  {
   "cell_type": "code",
   "execution_count": 75,
   "id": "0c9feda5-2a3a-48f5-9a18-46684637f05a",
   "metadata": {},
   "outputs": [
    {
     "data": {
      "text/plain": [
       "9"
      ]
     },
     "execution_count": 75,
     "metadata": {},
     "output_type": "execute_result"
    }
   ],
   "source": [
    "size(arr_2d)"
   ]
  },
  {
   "cell_type": "code",
   "execution_count": 76,
   "id": "4bce8983-3cfb-4615-bb70-ccbe2fb01180",
   "metadata": {},
   "outputs": [
    {
     "data": {
      "text/plain": [
       "12"
      ]
     },
     "execution_count": 76,
     "metadata": {},
     "output_type": "execute_result"
    }
   ],
   "source": [
    "size(arr_3d)"
   ]
  },
  {
   "cell_type": "code",
   "execution_count": 77,
   "id": "9ac5eecc-ee6a-4ee6-a850-5c679a7a9b14",
   "metadata": {},
   "outputs": [
    {
     "data": {
      "text/plain": [
       "8"
      ]
     },
     "execution_count": 77,
     "metadata": {},
     "output_type": "execute_result"
    }
   ],
   "source": [
    "arr_1d.itemsize"
   ]
  },
  {
   "cell_type": "code",
   "execution_count": 78,
   "id": "9df487af-480c-4789-944d-93ed59cb1910",
   "metadata": {},
   "outputs": [
    {
     "data": {
      "text/plain": [
       "8"
      ]
     },
     "execution_count": 78,
     "metadata": {},
     "output_type": "execute_result"
    }
   ],
   "source": [
    "arr_3d.itemsize"
   ]
  },
  {
   "cell_type": "code",
   "execution_count": 79,
   "id": "fc19f10c-9703-4fc3-aae2-391d0191bce2",
   "metadata": {},
   "outputs": [
    {
     "data": {
      "text/plain": [
       "dtype('int64')"
      ]
     },
     "execution_count": 79,
     "metadata": {},
     "output_type": "execute_result"
    }
   ],
   "source": [
    "arr_1d.dtype"
   ]
  },
  {
   "cell_type": "code",
   "execution_count": 80,
   "id": "888f969c-4d4e-4b62-b17b-c3b84913f5bb",
   "metadata": {},
   "outputs": [
    {
     "data": {
      "text/plain": [
       "array([10, 20, 33, 30])"
      ]
     },
     "execution_count": 80,
     "metadata": {},
     "output_type": "execute_result"
    }
   ],
   "source": [
    "arr_1d"
   ]
  },
  {
   "cell_type": "code",
   "execution_count": 81,
   "id": "53c9aed2-8e41-4b49-a338-a550467e7ca3",
   "metadata": {},
   "outputs": [
    {
     "data": {
      "text/plain": [
       "dtype('int64')"
      ]
     },
     "execution_count": 81,
     "metadata": {},
     "output_type": "execute_result"
    }
   ],
   "source": [
    "arr_2d.dtype"
   ]
  },
  {
   "cell_type": "code",
   "execution_count": 82,
   "id": "0e6c1b2a-8baa-422e-b7a9-b72ec1585f89",
   "metadata": {},
   "outputs": [
    {
     "data": {
      "text/plain": [
       "32"
      ]
     },
     "execution_count": 82,
     "metadata": {},
     "output_type": "execute_result"
    }
   ],
   "source": [
    "arr_1d.nbytes"
   ]
  },
  {
   "cell_type": "code",
   "execution_count": 83,
   "id": "37537ba9-969e-44d2-ae45-d1a0816668c2",
   "metadata": {},
   "outputs": [
    {
     "data": {
      "text/plain": [
       "96"
      ]
     },
     "execution_count": 83,
     "metadata": {},
     "output_type": "execute_result"
    }
   ],
   "source": [
    "arr_3d.nbytes"
   ]
  },
  {
   "cell_type": "code",
   "execution_count": 87,
   "id": "8f30327d-d2cd-4fdb-b836-98d67cee8249",
   "metadata": {},
   "outputs": [
    {
     "data": {
      "text/plain": [
       "(4,)"
      ]
     },
     "execution_count": 87,
     "metadata": {},
     "output_type": "execute_result"
    }
   ],
   "source": [
    "arr_1d.shape"
   ]
  },
  {
   "cell_type": "code",
   "execution_count": 88,
   "id": "436c055c-69ee-414a-969f-34251f65c59e",
   "metadata": {},
   "outputs": [
    {
     "data": {
      "text/plain": [
       "array([10, 20, 33, 30])"
      ]
     },
     "execution_count": 88,
     "metadata": {},
     "output_type": "execute_result"
    }
   ],
   "source": [
    "arr_1d"
   ]
  },
  {
   "cell_type": "code",
   "execution_count": 89,
   "id": "c3230b6c-a490-4ab3-9b1c-6a11ad052968",
   "metadata": {},
   "outputs": [
    {
     "data": {
      "text/plain": [
       "array([[10, 20],\n",
       "       [33, 30]])"
      ]
     },
     "execution_count": 89,
     "metadata": {},
     "output_type": "execute_result"
    }
   ],
   "source": [
    "arr_1d.reshape(2,2)"
   ]
  },
  {
   "cell_type": "code",
   "execution_count": 90,
   "id": "561610ae-56fc-4f22-b43b-7f1a222b611a",
   "metadata": {},
   "outputs": [
    {
     "data": {
      "text/plain": [
       "array([[10, 20, 33, 30]])"
      ]
     },
     "execution_count": 90,
     "metadata": {},
     "output_type": "execute_result"
    }
   ],
   "source": [
    "arr_1d.reshape(1,-1)"
   ]
  },
  {
   "cell_type": "code",
   "execution_count": 91,
   "id": "d224f98a-d3da-41e1-9299-5fe561095952",
   "metadata": {},
   "outputs": [
    {
     "data": {
      "text/plain": [
       "array([[10, 20],\n",
       "       [33, 30]])"
      ]
     },
     "execution_count": 91,
     "metadata": {},
     "output_type": "execute_result"
    }
   ],
   "source": []
  },
  {
   "cell_type": "code",
   "execution_count": 92,
   "id": "1c1ef4ea-3f80-42b8-908c-a1fa9c6c1cf5",
   "metadata": {},
   "outputs": [
    {
     "data": {
      "text/plain": [
       "array([1, 3, 4, 4, 6, 7, 6, 3, 4])"
      ]
     },
     "execution_count": 92,
     "metadata": {},
     "output_type": "execute_result"
    }
   ],
   "source": [
    "arr_2d.flatten()"
   ]
  },
  {
   "cell_type": "code",
   "execution_count": 93,
   "id": "d43e3e15-b27c-459d-aa01-de2d284553a5",
   "metadata": {},
   "outputs": [
    {
     "data": {
      "text/plain": [
       "array([1, 2, 3, 2, 3, 1, 4, 8, 9, 7, 0, 6])"
      ]
     },
     "execution_count": 93,
     "metadata": {},
     "output_type": "execute_result"
    }
   ],
   "source": [
    "arr_3d.flatten()"
   ]
  },
  {
   "cell_type": "markdown",
   "id": "00f3a03f-23df-4b12-9db3-1b6ad0184da5",
   "metadata": {},
   "source": [
    "# Working with Multi-Dimensional Arrays"
   ]
  },
  {
   "cell_type": "markdown",
   "id": "8cef45dd-57d6-4fc6-9a93-3557eda7252a",
   "metadata": {},
   "source": [
    "Create Multi-Dimensional Arrays \n",
    "- array()\n",
    "- zeros()\n",
    "- ones()\n",
    "- eye()\n",
    "- reshape()"
   ]
  },
  {
   "cell_type": "code",
   "execution_count": 97,
   "id": "b0318c75-fa3b-4a2b-b2ab-dc75a0d70fd9",
   "metadata": {},
   "outputs": [
    {
     "name": "stdout",
     "output_type": "stream",
     "text": [
      "[[ 1  2  3  4  5]\n",
      " [ 6  7  8  9 10]]\n"
     ]
    }
   ],
   "source": [
    "a = array([[1,2,3,4,5],[6,7,8,9,10]],int)\n",
    "print(a)"
   ]
  },
  {
   "cell_type": "markdown",
   "id": "f797f806-efeb-4882-aa74-d366bf56925d",
   "metadata": {},
   "source": [
    "zeros((r,c),dtype)\\\n",
    "ones((r,c),dtype)"
   ]
  },
  {
   "cell_type": "code",
   "execution_count": 98,
   "id": "5a86efc4-e140-4dbb-a1ab-7aff8cd408b5",
   "metadata": {},
   "outputs": [
    {
     "data": {
      "text/plain": [
       "array([[0, 0, 0],\n",
       "       [0, 0, 0],\n",
       "       [0, 0, 0],\n",
       "       [0, 0, 0]])"
      ]
     },
     "execution_count": 98,
     "metadata": {},
     "output_type": "execute_result"
    }
   ],
   "source": [
    "zeros((4,3),int)"
   ]
  },
  {
   "cell_type": "code",
   "execution_count": 99,
   "id": "c3caa8bf-2c0f-476c-bcac-73920ad722ad",
   "metadata": {},
   "outputs": [
    {
     "data": {
      "text/plain": [
       "array([[1., 1., 1., 1., 1.],\n",
       "       [1., 1., 1., 1., 1.],\n",
       "       [1., 1., 1., 1., 1.]])"
      ]
     },
     "execution_count": 99,
     "metadata": {},
     "output_type": "execute_result"
    }
   ],
   "source": [
    "ones((3,5),float)"
   ]
  },
  {
   "cell_type": "markdown",
   "id": "8f42285f-3567-4ae4-9bee-e30f5c9edaf0",
   "metadata": {},
   "source": [
    "eye(n,dtype) -> n no of row and column"
   ]
  },
  {
   "cell_type": "code",
   "execution_count": 100,
   "id": "6c60cdff-8561-498e-be95-778a8d0ff4a9",
   "metadata": {},
   "outputs": [
    {
     "data": {
      "text/plain": [
       "array([[1., 0., 0., 0., 0.],\n",
       "       [0., 1., 0., 0., 0.],\n",
       "       [0., 0., 1., 0., 0.],\n",
       "       [0., 0., 0., 1., 0.],\n",
       "       [0., 0., 0., 0., 1.]])"
      ]
     },
     "execution_count": 100,
     "metadata": {},
     "output_type": "execute_result"
    }
   ],
   "source": [
    "eye(5,dtype=float)"
   ]
  },
  {
   "cell_type": "markdown",
   "id": "dc02f6c2-e7f0-417a-8d6e-5b4d2372a0a8",
   "metadata": {},
   "source": [
    "# Indexing and Slicing in Multi-Dimensional Arrays"
   ]
  },
  {
   "cell_type": "code",
   "execution_count": 101,
   "id": "356f7301-6308-44a3-bdf0-3d95ab42770f",
   "metadata": {},
   "outputs": [
    {
     "data": {
      "text/plain": [
       "array([[1, 3, 4],\n",
       "       [4, 6, 7],\n",
       "       [6, 3, 4]])"
      ]
     },
     "execution_count": 101,
     "metadata": {},
     "output_type": "execute_result"
    }
   ],
   "source": [
    "arr_2d"
   ]
  },
  {
   "cell_type": "code",
   "execution_count": 102,
   "id": "9ff2e0e2-c31d-4f6f-8638-aa40ffc8d417",
   "metadata": {},
   "outputs": [
    {
     "data": {
      "text/plain": [
       "7"
      ]
     },
     "execution_count": 102,
     "metadata": {},
     "output_type": "execute_result"
    }
   ],
   "source": [
    "arr_2d[1][2]"
   ]
  },
  {
   "cell_type": "code",
   "execution_count": 105,
   "id": "f85dad97-d77b-439b-bd2f-e520c965413f",
   "metadata": {},
   "outputs": [
    {
     "name": "stdout",
     "output_type": "stream",
     "text": [
      "1 3 4 4 6 7 6 3 4 "
     ]
    }
   ],
   "source": [
    "for i in range(len(arr_2d)):\n",
    "    for j in range(len(arr_2d[i])):\n",
    "        print(arr_2d[i][j],end=' ')"
   ]
  },
  {
   "cell_type": "markdown",
   "id": "734f5202-712d-4f9b-a3da-e282904e2e09",
   "metadata": {},
   "source": [
    "# A Python Program to retrieve the elements from a 3D array"
   ]
  },
  {
   "cell_type": "code",
   "execution_count": 106,
   "id": "e494d366-f9a1-4041-b40d-d314aedbea50",
   "metadata": {},
   "outputs": [
    {
     "name": "stdout",
     "output_type": "stream",
     "text": [
      "[[[ 1  2  3]\n",
      "  [ 3  4  5]]\n",
      "\n",
      " [[12 13 14]\n",
      "  [20 30 12]]\n",
      "\n",
      " [[22 34 25]\n",
      "  [45 42 14]]]\n"
     ]
    }
   ],
   "source": [
    "# Create 3D array\n",
    "arr3d = array([[[1,2,3],[3,4,5]],[[12,13,14],[20,30,12]],[[22,34,25],[45,42,14]]])\n",
    "print(arr3d)"
   ]
  },
  {
   "cell_type": "code",
   "execution_count": 110,
   "id": "8a560984-37d8-41b7-b6e6-72db4fd18cf1",
   "metadata": {},
   "outputs": [
    {
     "name": "stdout",
     "output_type": "stream",
     "text": [
      "1\t2\t3\t\n",
      "3\t4\t5\t\n",
      "\n",
      "12\t13\t14\t\n",
      "20\t30\t12\t\n",
      "\n",
      "22\t34\t25\t\n",
      "45\t42\t14\t\n",
      "\n"
     ]
    }
   ],
   "source": [
    "for i in range(len(arr3d)):\n",
    "    for j in range(len(arr3d[i])):\n",
    "        for k in range(len(arr3d[i][j])):\n",
    "            print(arr3d[i][j][k],end = '\\t')\n",
    "        print()\n",
    "    print()"
   ]
  },
  {
   "cell_type": "markdown",
   "id": "8d64d68a-5c4a-4500-8c96-015b9c07cb57",
   "metadata": {},
   "source": [
    "# Slicing Multi-Dimensional Arrays"
   ]
  },
  {
   "cell_type": "code",
   "execution_count": 116,
   "id": "a65cd3db-0bda-486c-8dc3-f16f1d572257",
   "metadata": {},
   "outputs": [
    {
     "name": "stdout",
     "output_type": "stream",
     "text": [
      "[[11 12 13 14 15]\n",
      " [16 17 18 19 20]\n",
      " [21 22 23 24 25]\n",
      " [26 27 28 29 30]\n",
      " [31 32 33 34 35]]\n"
     ]
    }
   ],
   "source": [
    "a = arange(11,36,1).reshape(5,5)\n",
    "print(a)"
   ]
  },
  {
   "cell_type": "code",
   "execution_count": 117,
   "id": "06314f67-bdcb-494d-921d-3a2b89917a0d",
   "metadata": {},
   "outputs": [
    {
     "data": {
      "text/plain": [
       "array([11, 12, 13, 14, 15])"
      ]
     },
     "execution_count": 117,
     "metadata": {},
     "output_type": "execute_result"
    }
   ],
   "source": [
    "a[0]"
   ]
  },
  {
   "cell_type": "code",
   "execution_count": 120,
   "id": "9edc6662-5018-44b7-b6f0-0e950a6de287",
   "metadata": {},
   "outputs": [
    {
     "data": {
      "text/plain": [
       "array([11, 12, 13, 14, 15])"
      ]
     },
     "execution_count": 120,
     "metadata": {},
     "output_type": "execute_result"
    }
   ],
   "source": [
    "a[0,:]"
   ]
  },
  {
   "cell_type": "code",
   "execution_count": 121,
   "id": "7308b92c-8402-49c5-8a3a-107fecd6ee16",
   "metadata": {},
   "outputs": [
    {
     "data": {
      "text/plain": [
       "array([16, 17, 18, 19, 20])"
      ]
     },
     "execution_count": 121,
     "metadata": {},
     "output_type": "execute_result"
    }
   ],
   "source": [
    "a[1]"
   ]
  },
  {
   "cell_type": "code",
   "execution_count": 122,
   "id": "674d7524-a131-40ee-8fa2-eab34d709b22",
   "metadata": {},
   "outputs": [
    {
     "data": {
      "text/plain": [
       "array([16, 17, 18, 19, 20])"
      ]
     },
     "execution_count": 122,
     "metadata": {},
     "output_type": "execute_result"
    }
   ],
   "source": [
    "a[1,:]"
   ]
  },
  {
   "cell_type": "code",
   "execution_count": 130,
   "id": "2914ab30-6773-4ea8-8c9e-8d29a1331b03",
   "metadata": {},
   "outputs": [
    {
     "data": {
      "text/plain": [
       "array([[12],\n",
       "       [17],\n",
       "       [22],\n",
       "       [27],\n",
       "       [32]])"
      ]
     },
     "execution_count": 130,
     "metadata": {},
     "output_type": "execute_result"
    }
   ],
   "source": [
    "a[0:5,1:2] # Retrieve all rows with 1st column"
   ]
  },
  {
   "cell_type": "code",
   "execution_count": 131,
   "id": "7a7c92f3-290e-4b08-a017-0ed08d88190b",
   "metadata": {},
   "outputs": [
    {
     "data": {
      "text/plain": [
       "array([[11, 12, 13],\n",
       "       [16, 17, 18]])"
      ]
     },
     "execution_count": 131,
     "metadata": {},
     "output_type": "execute_result"
    }
   ],
   "source": [
    "a[0:2,0:3] # Retrieve 0th row to 1st row with columns from 0th column to 2nd column"
   ]
  },
  {
   "cell_type": "code",
   "execution_count": 132,
   "id": "786b191f-bfbd-4c29-a6ae-9c662f69e807",
   "metadata": {},
   "outputs": [
    {
     "data": {
      "text/plain": [
       "array([[11, 12, 13],\n",
       "       [16, 17, 18]])"
      ]
     },
     "execution_count": 132,
     "metadata": {},
     "output_type": "execute_result"
    }
   ],
   "source": [
    "a[:2,:3]"
   ]
  },
  {
   "cell_type": "code",
   "execution_count": 134,
   "id": "3c257ca4-8f3c-4722-95ef-817e970d45ed",
   "metadata": {},
   "outputs": [
    {
     "data": {
      "text/plain": [
       "array([[24, 25],\n",
       "       [29, 30]])"
      ]
     },
     "execution_count": 134,
     "metadata": {},
     "output_type": "execute_result"
    }
   ],
   "source": [
    "a[2:4,3:] # Retrieve 2nd and 3rd rows with 3rd column and 4th columns"
   ]
  },
  {
   "cell_type": "code",
   "execution_count": 135,
   "id": "8ead5a60-5002-4023-9897-993a4b6f6a63",
   "metadata": {},
   "outputs": [
    {
     "data": {
      "text/plain": [
       "array([[24, 25],\n",
       "       [29, 30]])"
      ]
     },
     "execution_count": 135,
     "metadata": {},
     "output_type": "execute_result"
    }
   ],
   "source": [
    "a[2:4,3:5]"
   ]
  },
  {
   "cell_type": "markdown",
   "id": "a1b0bb26-bec8-4fb5-acae-aff23861482d",
   "metadata": {},
   "source": [
    "# Matrices in numpy"
   ]
  },
  {
   "cell_type": "markdown",
   "id": "92a467ac-b183-4b49-9f5a-13c71d8845e1",
   "metadata": {},
   "source": [
    "- Rectangular Array\n",
    "- row x column\n",
    "- If matrix has only one row called Row Matrix\n",
    "- If matrix has only one column called Column Matrix\n",
    "- m x n called matrix\n",
    "- 2 x 3 means 2 rows and 3 columns\n",
    "- matrix(2D array or string)"
   ]
  },
  {
   "cell_type": "code",
   "execution_count": 139,
   "id": "0274a971-6037-4d13-a89e-60ab05bb4a7a",
   "metadata": {},
   "outputs": [
    {
     "name": "stdout",
     "output_type": "stream",
     "text": [
      "[[1 3 4]\n",
      " [4 6 7]\n",
      " [6 3 4]]\n"
     ]
    }
   ],
   "source": [
    "matrix_1 = matrix(arr_2d)\n",
    "print(matrix_1)"
   ]
  },
  {
   "cell_type": "code",
   "execution_count": 141,
   "id": "d7d6a219-58c1-453d-a31e-0a449204e1b4",
   "metadata": {},
   "outputs": [
    {
     "name": "stdout",
     "output_type": "stream",
     "text": [
      "[[1 2]\n",
      " [3 4]]\n"
     ]
    }
   ],
   "source": [
    "matrix_2 = matrix(\"1,2;3,4\")\n",
    "print(matrix_2)"
   ]
  },
  {
   "cell_type": "markdown",
   "id": "f8f65ff8-968b-43aa-82c5-5369c7565c28",
   "metadata": {},
   "source": [
    "# Getting Diagonal Elements of a Matrix"
   ]
  },
  {
   "cell_type": "markdown",
   "id": "15a65c5e-902f-4696-b8ef-8479b12fe9a3",
   "metadata": {},
   "source": [
    "- diagonal(matrix)"
   ]
  },
  {
   "cell_type": "code",
   "execution_count": 143,
   "id": "7e9b1c29-615c-48c1-aca6-f5e853b0ce17",
   "metadata": {},
   "outputs": [
    {
     "data": {
      "text/plain": [
       "matrix([[1, 3, 4],\n",
       "        [4, 6, 7],\n",
       "        [6, 3, 4]])"
      ]
     },
     "execution_count": 143,
     "metadata": {},
     "output_type": "execute_result"
    }
   ],
   "source": [
    "matrix_1"
   ]
  },
  {
   "cell_type": "code",
   "execution_count": 144,
   "id": "9e6fffe1-e3cf-4788-8316-94ae7bd39f0a",
   "metadata": {},
   "outputs": [
    {
     "data": {
      "text/plain": [
       "array([1, 6, 4])"
      ]
     },
     "execution_count": 144,
     "metadata": {},
     "output_type": "execute_result"
    }
   ],
   "source": [
    "diagonal(matrix_1)"
   ]
  },
  {
   "cell_type": "markdown",
   "id": "43c5f247-64cb-4ad6-9e19-aed6991804ab",
   "metadata": {},
   "source": [
    "# Finding Maximum and Minimum Elements"
   ]
  },
  {
   "cell_type": "code",
   "execution_count": 145,
   "id": "e142827e-968e-4653-9efc-de569510f0a3",
   "metadata": {},
   "outputs": [
    {
     "data": {
      "text/plain": [
       "array([[[1, 2, 3],\n",
       "        [2, 3, 1]],\n",
       "\n",
       "       [[4, 8, 9],\n",
       "        [7, 0, 6]]])"
      ]
     },
     "execution_count": 145,
     "metadata": {},
     "output_type": "execute_result"
    }
   ],
   "source": [
    "arr_3d"
   ]
  },
  {
   "cell_type": "code",
   "execution_count": 147,
   "id": "9b837e89-6840-4767-8477-9f6fe4370f03",
   "metadata": {},
   "outputs": [
    {
     "data": {
      "text/plain": [
       "9"
      ]
     },
     "execution_count": 147,
     "metadata": {},
     "output_type": "execute_result"
    }
   ],
   "source": [
    "arr_3d.max()"
   ]
  },
  {
   "cell_type": "code",
   "execution_count": 148,
   "id": "bfde4504-7fb6-498b-92d1-f4bf568666a4",
   "metadata": {},
   "outputs": [
    {
     "data": {
      "text/plain": [
       "0"
      ]
     },
     "execution_count": 148,
     "metadata": {},
     "output_type": "execute_result"
    }
   ],
   "source": [
    "arr_3d.min()"
   ]
  },
  {
   "cell_type": "markdown",
   "id": "38ac6ac4-0806-4e62-89f5-d2b42b6c3e74",
   "metadata": {},
   "source": [
    "# Finding Sum and Average Elements"
   ]
  },
  {
   "cell_type": "code",
   "execution_count": 149,
   "id": "c4506f95-1f73-4378-a4f0-06d1b6dfda71",
   "metadata": {},
   "outputs": [
    {
     "data": {
      "text/plain": [
       "46"
      ]
     },
     "execution_count": 149,
     "metadata": {},
     "output_type": "execute_result"
    }
   ],
   "source": [
    "arr_3d.sum()"
   ]
  },
  {
   "cell_type": "code",
   "execution_count": 150,
   "id": "b54859f7-234b-4f39-bf5d-616c11341fd4",
   "metadata": {},
   "outputs": [
    {
     "data": {
      "text/plain": [
       "3.8333333333333335"
      ]
     },
     "execution_count": 150,
     "metadata": {},
     "output_type": "execute_result"
    }
   ],
   "source": [
    "arr_3d.mean()"
   ]
  },
  {
   "cell_type": "markdown",
   "id": "bfa1f577-af9a-46f4-bd1b-4a45f7ebd3de",
   "metadata": {},
   "source": [
    "# Products of Elements"
   ]
  },
  {
   "cell_type": "code",
   "execution_count": 152,
   "id": "a97d59c2-8ab5-4594-a833-c428aa975ea2",
   "metadata": {},
   "outputs": [
    {
     "data": {
      "text/plain": [
       "145152"
      ]
     },
     "execution_count": 152,
     "metadata": {},
     "output_type": "execute_result"
    }
   ],
   "source": [
    "arr_2d.prod()"
   ]
  },
  {
   "cell_type": "code",
   "execution_count": 153,
   "id": "ab39c22a-ce8c-487d-b1bc-7f61e45605a6",
   "metadata": {},
   "outputs": [
    {
     "data": {
      "text/plain": [
       "array([[1, 3, 4],\n",
       "       [4, 6, 7],\n",
       "       [6, 3, 4]])"
      ]
     },
     "execution_count": 153,
     "metadata": {},
     "output_type": "execute_result"
    }
   ],
   "source": [
    "arr_2d"
   ]
  },
  {
   "cell_type": "code",
   "execution_count": 154,
   "id": "720b3272-f796-47a2-92ba-8e34880b32e8",
   "metadata": {},
   "outputs": [
    {
     "data": {
      "text/plain": [
       "array([ 12, 168,  72])"
      ]
     },
     "execution_count": 154,
     "metadata": {},
     "output_type": "execute_result"
    }
   ],
   "source": [
    "arr_2d.prod(1)"
   ]
  },
  {
   "cell_type": "markdown",
   "id": "fa81b03b-7e74-478a-b207-8937f5eaf184",
   "metadata": {},
   "source": [
    "# Sorting the Matrix"
   ]
  },
  {
   "cell_type": "code",
   "execution_count": 156,
   "id": "dc9342f0-db4c-442b-aec1-b4c6b525601c",
   "metadata": {},
   "outputs": [
    {
     "data": {
      "text/plain": [
       "matrix([[1, 3, 4],\n",
       "        [4, 6, 7],\n",
       "        [6, 3, 4]])"
      ]
     },
     "execution_count": 156,
     "metadata": {},
     "output_type": "execute_result"
    }
   ],
   "source": [
    "matrix_1"
   ]
  },
  {
   "cell_type": "code",
   "execution_count": 163,
   "id": "32c43041-ea18-4ec0-9463-b18530ae00b1",
   "metadata": {},
   "outputs": [
    {
     "data": {
      "text/plain": [
       "matrix([[1, 3, 4],\n",
       "        [4, 3, 4],\n",
       "        [6, 6, 7]])"
      ]
     },
     "execution_count": 163,
     "metadata": {},
     "output_type": "execute_result"
    }
   ],
   "source": [
    "sort(matrix_1,axis=0) # column wise"
   ]
  },
  {
   "cell_type": "code",
   "execution_count": 164,
   "id": "8a474e6a-6d6f-4cb9-afb8-21421ec0ef35",
   "metadata": {},
   "outputs": [
    {
     "data": {
      "text/plain": [
       "array([[1, 3, 4],\n",
       "       [4, 6, 7],\n",
       "       [3, 4, 6]])"
      ]
     },
     "execution_count": 164,
     "metadata": {},
     "output_type": "execute_result"
    }
   ],
   "source": [
    "sort(arr_2d,axis=1) # row wise"
   ]
  },
  {
   "cell_type": "markdown",
   "id": "13b5047b-9878-4273-93fd-489c27cb3dd3",
   "metadata": {},
   "source": [
    "# Transpose of a Matrix"
   ]
  },
  {
   "cell_type": "code",
   "execution_count": 167,
   "id": "78428ae2-64b8-444d-ac79-52854db1bc90",
   "metadata": {},
   "outputs": [
    {
     "data": {
      "text/plain": [
       "matrix([[1, 3, 4],\n",
       "        [4, 6, 7],\n",
       "        [6, 3, 4]])"
      ]
     },
     "execution_count": 167,
     "metadata": {},
     "output_type": "execute_result"
    }
   ],
   "source": [
    "matrix_1"
   ]
  },
  {
   "cell_type": "code",
   "execution_count": 168,
   "id": "2e64c257-aaba-4313-9218-c11da65608d2",
   "metadata": {},
   "outputs": [
    {
     "data": {
      "text/plain": [
       "matrix([[1, 4, 6],\n",
       "        [3, 6, 3],\n",
       "        [4, 7, 4]])"
      ]
     },
     "execution_count": 168,
     "metadata": {},
     "output_type": "execute_result"
    }
   ],
   "source": [
    "transpose(matrix_1)"
   ]
  },
  {
   "cell_type": "code",
   "execution_count": 170,
   "id": "095279a4-84d9-41f0-a878-c209e97ac8e4",
   "metadata": {},
   "outputs": [
    {
     "data": {
      "text/plain": [
       "matrix([[1, 4, 6],\n",
       "        [3, 6, 3],\n",
       "        [4, 7, 4]])"
      ]
     },
     "execution_count": 170,
     "metadata": {},
     "output_type": "execute_result"
    }
   ],
   "source": [
    "matrix_1.T"
   ]
  },
  {
   "cell_type": "code",
   "execution_count": 171,
   "id": "22891d09-5532-4509-8e4b-3a3ed6ee6a5d",
   "metadata": {},
   "outputs": [
    {
     "data": {
      "text/plain": [
       "matrix([[1, 4, 6],\n",
       "        [3, 6, 3],\n",
       "        [4, 7, 4]])"
      ]
     },
     "execution_count": 171,
     "metadata": {},
     "output_type": "execute_result"
    }
   ],
   "source": [
    "matrix_1.getT()"
   ]
  },
  {
   "cell_type": "markdown",
   "id": "6065ae07-183c-4b09-aa39-204f8fec1f37",
   "metadata": {},
   "source": [
    "# Matrix Addition and Multiplication"
   ]
  },
  {
   "cell_type": "code",
   "execution_count": 173,
   "id": "4d54419e-c111-4642-ad1b-3cc06f39c594",
   "metadata": {},
   "outputs": [
    {
     "data": {
      "text/plain": [
       "matrix([[1, 3, 4],\n",
       "        [4, 6, 7],\n",
       "        [6, 3, 4]])"
      ]
     },
     "execution_count": 173,
     "metadata": {},
     "output_type": "execute_result"
    }
   ],
   "source": [
    "matrix_1"
   ]
  },
  {
   "cell_type": "code",
   "execution_count": 174,
   "id": "95ae8e2c-cd38-4d82-849a-d259eb7f63b2",
   "metadata": {},
   "outputs": [
    {
     "data": {
      "text/plain": [
       "matrix([[1, 2],\n",
       "        [3, 4]])"
      ]
     },
     "execution_count": 174,
     "metadata": {},
     "output_type": "execute_result"
    }
   ],
   "source": [
    "matrix_2"
   ]
  },
  {
   "cell_type": "code",
   "execution_count": 177,
   "id": "226b94e0-4c2c-43ae-86ed-da0f5c55390c",
   "metadata": {},
   "outputs": [
    {
     "data": {
      "text/plain": [
       "array([[1, 3, 4],\n",
       "       [4, 6, 7],\n",
       "       [3, 4, 6]])"
      ]
     },
     "execution_count": 177,
     "metadata": {},
     "output_type": "execute_result"
    }
   ],
   "source": [
    "arr_2d"
   ]
  },
  {
   "cell_type": "code",
   "execution_count": 176,
   "id": "fbe1bdea-4152-48fd-a2cc-37fa6924baba",
   "metadata": {},
   "outputs": [
    {
     "data": {
      "text/plain": [
       "matrix([[ 2,  6,  8],\n",
       "        [ 8, 12, 14],\n",
       "        [ 9,  7, 10]])"
      ]
     },
     "execution_count": 176,
     "metadata": {},
     "output_type": "execute_result"
    }
   ],
   "source": [
    "matrix_1 + arr_2d"
   ]
  },
  {
   "cell_type": "code",
   "execution_count": 178,
   "id": "aa1eaffa-e871-47be-b6b2-00971404726d",
   "metadata": {},
   "outputs": [
    {
     "data": {
      "text/plain": [
       "matrix([[ 25,  37,  49],\n",
       "        [ 49,  76, 100],\n",
       "        [ 30,  52,  69]])"
      ]
     },
     "execution_count": 178,
     "metadata": {},
     "output_type": "execute_result"
    }
   ],
   "source": [
    "matrix_1 * arr_2d"
   ]
  },
  {
   "cell_type": "markdown",
   "id": "784f8f70-20d3-4f08-9c8b-d362a3585b9b",
   "metadata": {},
   "source": [
    "# Random Numbers"
   ]
  },
  {
   "cell_type": "code",
   "execution_count": 186,
   "id": "6e7739ad-7014-4992-9ffd-b65a44d1920d",
   "metadata": {},
   "outputs": [
    {
     "name": "stdout",
     "output_type": "stream",
     "text": [
      "9\n"
     ]
    }
   ],
   "source": [
    "rand_num = random.randint(5,10)\n",
    "print(rand_num)"
   ]
  },
  {
   "cell_type": "code",
   "execution_count": 183,
   "id": "9e12581e-40c2-4f58-a1f3-1507182553e8",
   "metadata": {},
   "outputs": [
    {
     "data": {
      "text/plain": [
       "0.3354347077514681"
      ]
     },
     "execution_count": 183,
     "metadata": {},
     "output_type": "execute_result"
    }
   ],
   "source": [
    "random.rand()"
   ]
  },
  {
   "cell_type": "code",
   "execution_count": 184,
   "id": "1738ba54-07e8-46a8-99b6-d53bf295e434",
   "metadata": {},
   "outputs": [
    {
     "data": {
      "text/plain": [
       "array([0.77423284, 0.07091839, 0.15789178, 0.77189526, 0.11167377])"
      ]
     },
     "execution_count": 184,
     "metadata": {},
     "output_type": "execute_result"
    }
   ],
   "source": [
    "random.rand(5)"
   ]
  },
  {
   "cell_type": "code",
   "execution_count": 185,
   "id": "d767bcad-eb7e-4dee-84d8-b953e90f3479",
   "metadata": {},
   "outputs": [
    {
     "data": {
      "text/plain": [
       "array([[0.78302267, 0.56135851, 0.51429373],\n",
       "       [0.86338538, 0.82437362, 0.77273085]])"
      ]
     },
     "execution_count": 185,
     "metadata": {},
     "output_type": "execute_result"
    }
   ],
   "source": [
    "random.rand(2,3)"
   ]
  },
  {
   "cell_type": "code",
   "execution_count": 187,
   "id": "c823fdda-f146-47b2-b332-a340243b59c7",
   "metadata": {},
   "outputs": [
    {
     "data": {
      "text/plain": [
       "array([0.13374028, 0.51074352, 0.38461611, 0.15365473, 0.13665777,\n",
       "       0.24506144, 0.09190173, 0.04485552, 0.53331514, 0.49826882,\n",
       "       0.00349954, 0.15845039, 0.85291271, 0.65994557, 0.80313479,\n",
       "       0.55519293, 0.46097003, 0.96245744, 0.4363473 , 0.96923947])"
      ]
     },
     "execution_count": 187,
     "metadata": {},
     "output_type": "execute_result"
    }
   ],
   "source": [
    "random.sample(20)"
   ]
  },
  {
   "cell_type": "code",
   "execution_count": null,
   "id": "95ec0a7b-937f-4532-a469-73740197fbe3",
   "metadata": {},
   "outputs": [],
   "source": []
  }
 ],
 "metadata": {
  "kernelspec": {
   "display_name": "Python 3 (ipykernel)",
   "language": "python",
   "name": "python3"
  },
  "language_info": {
   "codemirror_mode": {
    "name": "ipython",
    "version": 3
   },
   "file_extension": ".py",
   "mimetype": "text/x-python",
   "name": "python",
   "nbconvert_exporter": "python",
   "pygments_lexer": "ipython3",
   "version": "3.11.7"
  }
 },
 "nbformat": 4,
 "nbformat_minor": 5
}
