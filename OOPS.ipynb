{
 "cells": [
  {
   "cell_type": "markdown",
   "id": "0488f95c-a285-4fbb-8c11-57e758d0c6f9",
   "metadata": {},
   "source": [
    "# Features of Object-Oriented Programming System(OOPS):\n",
    "1. Classes and Objects\n",
    "2. Encapsulation\n",
    "3. Abstraction\n",
    "4. Inheritance\n",
    "5. Polymorphism"
   ]
  },
  {
   "cell_type": "markdown",
   "id": "65031596-c4f6-4601-997b-72d95e8da097",
   "metadata": {},
   "source": [
    "### Classes and Objects:\n",
    "- Class is a blueprint.\n",
    "- Object is an physically existance.Objects are crated on heap memory by PVM at run time.\n",
    "- classname.methodname()\n",
    "- insatancename.methodname()\n",
    "- instancename = Classname()"
   ]
  },
  {
   "cell_type": "markdown",
   "id": "c77c330d-502c-4f63-a775-8ccaf39e9acc",
   "metadata": {},
   "source": [
    "### Creating Classes and Objects in Python"
   ]
  },
  {
   "cell_type": "code",
   "execution_count": 36,
   "id": "813648a0-5fdf-4613-9df9-25b811e6e0ec",
   "metadata": {},
   "outputs": [],
   "source": [
    "class Person:\n",
    "    # Attribues manes variables\n",
    "    name = 'Raju'\n",
    "    age = 20\n",
    "    # actions means functions\n",
    "    def talk(self):\n",
    "        print(\"My name is: \",self.name)\n",
    "        print(\"My age is: \",self.age)\n"
   ]
  },
  {
   "cell_type": "code",
   "execution_count": 37,
   "id": "675530a0-e15a-4c75-ada1-a2002eaddcb6",
   "metadata": {},
   "outputs": [],
   "source": [
    "p1 = Person()"
   ]
  },
  {
   "cell_type": "code",
   "execution_count": 38,
   "id": "e97ff403-5d68-4fe0-8783-d5d3b354dd33",
   "metadata": {},
   "outputs": [
    {
     "data": {
      "text/plain": [
       "20"
      ]
     },
     "execution_count": 38,
     "metadata": {},
     "output_type": "execute_result"
    }
   ],
   "source": [
    "p1.age"
   ]
  },
  {
   "cell_type": "code",
   "execution_count": 39,
   "id": "65055e19-7a12-4f4d-9a9f-7a93203fcea8",
   "metadata": {},
   "outputs": [
    {
     "data": {
      "text/plain": [
       "'Raju'"
      ]
     },
     "execution_count": 39,
     "metadata": {},
     "output_type": "execute_result"
    }
   ],
   "source": [
    "p1.name"
   ]
  },
  {
   "cell_type": "code",
   "execution_count": 40,
   "id": "dc0ddd96-bbf0-46bc-8a6f-9beebaa4c188",
   "metadata": {},
   "outputs": [
    {
     "data": {
      "text/plain": [
       "<bound method Person.talk of <__main__.Person object at 0x10d6e9110>>"
      ]
     },
     "execution_count": 40,
     "metadata": {},
     "output_type": "execute_result"
    }
   ],
   "source": [
    "p1.talk"
   ]
  },
  {
   "cell_type": "code",
   "execution_count": 41,
   "id": "1988e18a-cc93-4d0a-8adb-05e2a303d8d9",
   "metadata": {},
   "outputs": [
    {
     "name": "stdout",
     "output_type": "stream",
     "text": [
      "My name is:  Raju\n",
      "My age is:  20\n"
     ]
    }
   ],
   "source": [
    "p1.talk()"
   ]
  },
  {
   "cell_type": "markdown",
   "id": "ce748d3f-eff8-47c6-a566-9cdcbde2b0b9",
   "metadata": {},
   "source": [
    "## Encapsulation:\n",
    "- Encapsulation is a mechanism where the data(variables) and the code(methods) that act on the data will bind together.\n",
    "- Class is an example of Encapsulation- the variables and methods are inside the class.Thus class is binding them together.\n",
    "- The variables and methods of a class are called 'Members' of the class.All the members of a class are by default available in outside the class.That means they are public by default.In python variables and methods are public by default.\n",
    "- Python follows Uniform Access Principle.\n",
    "- Special function - its name is starting ending two underscores(_).If a variable or method name starts and ends with two underscores,they are built-in-variables or methods which are defined for a specific purpose."
   ]
  },
  {
   "cell_type": "markdown",
   "id": "9188b84f-a048-49ed-bcaa-44c9b18329bf",
   "metadata": {},
   "source": [
    "### Encapsulation in Python"
   ]
  },
  {
   "cell_type": "code",
   "execution_count": 80,
   "id": "8c69c6ad-55f4-4362-abe1-2fd3cd609430",
   "metadata": {},
   "outputs": [],
   "source": [
    "class Student:\n",
    "    # to declare and initialization the variables\n",
    "    def __init__(self):   # self is a variable that refers to current instance\n",
    "        self.id = 10\n",
    "        self.name = 'Prodip'\n",
    "    # display student details\n",
    "    def dispaly(self):\n",
    "        print(\"ID: \",self.id)\n",
    "        print(\"NAME: \",self.name)\n",
    "        "
   ]
  },
  {
   "cell_type": "code",
   "execution_count": 47,
   "id": "329def2b-e821-40b8-85de-7f45b517a4e3",
   "metadata": {},
   "outputs": [],
   "source": [
    "prodip = Student()"
   ]
  },
  {
   "cell_type": "code",
   "execution_count": 48,
   "id": "90f95c26-229e-438d-8469-e8a20a054c77",
   "metadata": {},
   "outputs": [
    {
     "data": {
      "text/plain": [
       "10"
      ]
     },
     "execution_count": 48,
     "metadata": {},
     "output_type": "execute_result"
    }
   ],
   "source": [
    "prodip.id"
   ]
  },
  {
   "cell_type": "code",
   "execution_count": 49,
   "id": "14b7bbca-8807-4dce-8972-4855ad4a9ee6",
   "metadata": {},
   "outputs": [
    {
     "data": {
      "text/plain": [
       "'Prodip'"
      ]
     },
     "execution_count": 49,
     "metadata": {},
     "output_type": "execute_result"
    }
   ],
   "source": [
    "prodip.name"
   ]
  },
  {
   "cell_type": "code",
   "execution_count": 50,
   "id": "12c2ad62-32f9-4967-9e97-6795103ea31e",
   "metadata": {},
   "outputs": [
    {
     "name": "stdout",
     "output_type": "stream",
     "text": [
      "ID:  10\n",
      "NAME:  Prodip\n"
     ]
    }
   ],
   "source": [
    "prodip.dispaly()"
   ]
  },
  {
   "cell_type": "markdown",
   "id": "dd1d2585-b00d-4e88-a51a-1ab8514e5fb3",
   "metadata": {},
   "source": [
    "## Abstraction:\n",
    "- We can hide the unnecessary data from the user and expose only that data that is of interest to the user.This is called abstraction.\n",
    "- Access specifiers :\n",
    "    * Public keyword\n",
    "    * Private keyword\n",
    "    * Protected keyword\n",
    "(Not supported in Python)\n",
    "- use __var (private) or __display() (private)\n",
    "- Access for private varibale - instancename._Classname__var (This is called name mangling-one underscore before the class name and two underscore before the variable)"
   ]
  },
  {
   "cell_type": "markdown",
   "id": "fc1e9217-ed81-408c-b02e-b36965676364",
   "metadata": {},
   "source": [
    "### Abstraction in Python"
   ]
  },
  {
   "cell_type": "code",
   "execution_count": 52,
   "id": "d4d3d57d-9d27-4156-8e56-b869b44ca4f0",
   "metadata": {},
   "outputs": [],
   "source": [
    "class MyClass:\n",
    "    # This is Constructor\n",
    "    def __init__(self):\n",
    "        self.__y = 3 # This is private variable"
   ]
  },
  {
   "cell_type": "code",
   "execution_count": 53,
   "id": "cb54d924-c531-41c2-b228-a57f5de31b17",
   "metadata": {},
   "outputs": [],
   "source": [
    "m = MyClass()"
   ]
  },
  {
   "cell_type": "code",
   "execution_count": 54,
   "id": "6fcf4ef8-1335-4be4-bcc9-d8ce8a893fa0",
   "metadata": {},
   "outputs": [
    {
     "ename": "AttributeError",
     "evalue": "'MyClass' object has no attribute 'y'",
     "output_type": "error",
     "traceback": [
      "\u001b[0;31m---------------------------------------------------------------------------\u001b[0m",
      "\u001b[0;31mAttributeError\u001b[0m                            Traceback (most recent call last)",
      "Cell \u001b[0;32mIn[54], line 1\u001b[0m\n\u001b[0;32m----> 1\u001b[0m m\u001b[38;5;241m.\u001b[39my\n",
      "\u001b[0;31mAttributeError\u001b[0m: 'MyClass' object has no attribute 'y'"
     ]
    }
   ],
   "source": [
    "m.y"
   ]
  },
  {
   "cell_type": "code",
   "execution_count": 56,
   "id": "eafea9e0-ac79-4979-9634-c9a86ec65c6a",
   "metadata": {},
   "outputs": [
    {
     "data": {
      "text/plain": [
       "3"
      ]
     },
     "execution_count": 56,
     "metadata": {},
     "output_type": "execute_result"
    }
   ],
   "source": [
    "m._MyClass__y"
   ]
  },
  {
   "cell_type": "code",
   "execution_count": 58,
   "id": "9a071d22-2a9f-499d-a7a6-19d7c405960f",
   "metadata": {},
   "outputs": [
    {
     "name": "stdout",
     "output_type": "stream",
     "text": [
      "Accessing variables through method:\n",
      "1\n",
      "2\n",
      "Accessing variables through instance:\n",
      "1\n",
      "2\n"
     ]
    }
   ],
   "source": [
    "class MyClass:\n",
    "    # This is Constructor to intialize vars\n",
    "    def __init__(self):\n",
    "        self.x = 1 # public var\n",
    "        self.__y = 2 # private var\n",
    "    # instance method to access variables\n",
    "    def display(self):\n",
    "        print(self.x) # x is available directly\n",
    "        print(self.__y) # name mangling not required\n",
    "print('Accessing variables through method:')\n",
    "m = MyClass()\n",
    "m.display()\n",
    "\n",
    "print('Accessing variables through instance:')\n",
    "print(m.x) # x is available directly\n",
    "print(m._MyClass__y) # name mangling required"
   ]
  },
  {
   "cell_type": "code",
   "execution_count": 65,
   "id": "6f5250ff-d9b8-4daa-959f-0eddac4dcd44",
   "metadata": {},
   "outputs": [],
   "source": [
    "class Bank:\n",
    "    def __init__(self):\n",
    "        self.accno = 123\n",
    "        self.name = \"SBI\"\n",
    "        self.balance = 120000\n",
    "        self.__loan = 10000\n",
    "    def dispaly_to_clerk(self):\n",
    "        print(self.accno)\n",
    "        print(self.name)\n",
    "        print(self.balance)"
   ]
  },
  {
   "cell_type": "code",
   "execution_count": 66,
   "id": "334d6d6a-7378-4bbe-884c-fbc47051b0d4",
   "metadata": {},
   "outputs": [],
   "source": [
    "sbi = Bank()"
   ]
  },
  {
   "cell_type": "code",
   "execution_count": 67,
   "id": "ede0ffc3-d682-4419-b16d-630e01bdaa3a",
   "metadata": {},
   "outputs": [
    {
     "name": "stdout",
     "output_type": "stream",
     "text": [
      "123\n",
      "SBI\n",
      "120000\n"
     ]
    }
   ],
   "source": [
    "sbi.dispaly_to_clerk()"
   ]
  },
  {
   "cell_type": "code",
   "execution_count": 68,
   "id": "ce2bce28-031e-4b70-8b91-593d11d5f3ce",
   "metadata": {},
   "outputs": [],
   "source": [
    "class Bank:\n",
    "    def __init__(self):\n",
    "        self.accno = 123\n",
    "        self.name = \"SBI\"\n",
    "        self.balance = 120000\n",
    "        self.__loan = 10000\n",
    "    def dispaly_to_clerk(self):\n",
    "        print(self.accno)\n",
    "        print(self.name)\n",
    "        print(self.balance)\n",
    "        print(self.__loan)"
   ]
  },
  {
   "cell_type": "code",
   "execution_count": 69,
   "id": "86f65640-9156-4d79-a368-2a9699393381",
   "metadata": {},
   "outputs": [],
   "source": [
    "idfc = Bank()"
   ]
  },
  {
   "cell_type": "code",
   "execution_count": 70,
   "id": "d8bb6f04-f185-4e07-9377-fb1dcf94f7a2",
   "metadata": {},
   "outputs": [
    {
     "name": "stdout",
     "output_type": "stream",
     "text": [
      "123\n",
      "SBI\n",
      "120000\n",
      "10000\n"
     ]
    }
   ],
   "source": [
    "idfc.dispaly_to_clerk()"
   ]
  },
  {
   "cell_type": "markdown",
   "id": "5e627daa-3305-4437-995f-fcf12c833914",
   "metadata": {},
   "source": [
    "## Inheritance:\n",
    "- Creating new classes from existing classes, so that the new classes will acquire all the features of the existing classes is called inheritance."
   ]
  },
  {
   "cell_type": "markdown",
   "id": "d6583709-7eca-4c80-8872-2047a39e6e83",
   "metadata": {},
   "source": [
    "### Inheritance in Python"
   ]
  },
  {
   "cell_type": "code",
   "execution_count": 71,
   "id": "d8247298-7b36-47b1-b68c-af8b0bbc7ebf",
   "metadata": {},
   "outputs": [],
   "source": [
    "class A:\n",
    "    a = 1\n",
    "    b = 2\n",
    "    def method1(self):\n",
    "        print(self.a)\n",
    "        print(self.b)\n",
    "\n",
    "class B(A):\n",
    "    c = 3\n",
    "    def method2(self):\n",
    "        print(self.c)\n",
    "        "
   ]
  },
  {
   "cell_type": "code",
   "execution_count": 72,
   "id": "9309c861-3de1-4c52-821a-55cead577396",
   "metadata": {},
   "outputs": [],
   "source": [
    "obj = B()"
   ]
  },
  {
   "cell_type": "code",
   "execution_count": 73,
   "id": "ca1b5649-d2ca-4b3e-9b2d-0de64feec06f",
   "metadata": {},
   "outputs": [
    {
     "name": "stdout",
     "output_type": "stream",
     "text": [
      "1\n",
      "2\n"
     ]
    }
   ],
   "source": [
    "obj.method1()"
   ]
  },
  {
   "cell_type": "code",
   "execution_count": 74,
   "id": "c95e8986-e884-4f4b-a025-8d2dcaa93db2",
   "metadata": {},
   "outputs": [
    {
     "name": "stdout",
     "output_type": "stream",
     "text": [
      "3\n"
     ]
    }
   ],
   "source": [
    "obj.method2()"
   ]
  },
  {
   "cell_type": "markdown",
   "id": "99c2ee19-96d1-43dd-99d4-4261aa371613",
   "metadata": {},
   "source": [
    "## Polymorphism:\n",
    "- If an object or method is exhibiting different behavior in different contexts,it is called polymorphism.\n",
    "- The programmer uses same method call to perform different operations depending on the requirement."
   ]
  },
  {
   "cell_type": "markdown",
   "id": "f26744d0-01fb-4180-bb9a-92557a62b651",
   "metadata": {},
   "source": [
    "### Polymorphism in Python"
   ]
  },
  {
   "cell_type": "code",
   "execution_count": 75,
   "id": "6f1792dc-9367-4cb7-8aa4-79f7bb3c0fd4",
   "metadata": {},
   "outputs": [],
   "source": [
    "def add(a,b):\n",
    "    print(\"Addition:\",a+b)"
   ]
  },
  {
   "cell_type": "code",
   "execution_count": 77,
   "id": "ca15c154-db07-47cb-8b6d-15fb41c52af7",
   "metadata": {},
   "outputs": [
    {
     "name": "stdout",
     "output_type": "stream",
     "text": [
      "Addition: 40\n"
     ]
    }
   ],
   "source": [
    "add(10,30)"
   ]
  },
  {
   "cell_type": "code",
   "execution_count": 79,
   "id": "e274a885-3057-4780-a669-4fbcb46579ab",
   "metadata": {},
   "outputs": [
    {
     "name": "stdout",
     "output_type": "stream",
     "text": [
      "Addition: Core Python\n"
     ]
    }
   ],
   "source": [
    "add(\"Core\",\" Python\")"
   ]
  },
  {
   "cell_type": "markdown",
   "id": "159a02a2-6f71-4027-9f0c-2ece0b663fd9",
   "metadata": {},
   "source": [
    "#### 1. A Python program to define Student class and create an object to it.Also,we will call the method and display the student's details. "
   ]
  },
  {
   "cell_type": "code",
   "execution_count": 83,
   "id": "bbe55819-02d3-4a56-97ad-1fe9adcce18d",
   "metadata": {},
   "outputs": [
    {
     "name": "stdout",
     "output_type": "stream",
     "text": [
      "My name is: Prodip\n",
      "My name is: 34\n",
      "My name is: Kolkata\n"
     ]
    }
   ],
   "source": [
    "# instance variable and instance method\n",
    "class Student:\n",
    "    # this is a special method called constructor\n",
    "    def __init__(self):\n",
    "        self.name = \"Prodip\"\n",
    "        self.age = 34\n",
    "        self.address = 'Kolkata'\n",
    "    # this is an instance method\n",
    "    def display(self):\n",
    "        print(\"My name is:\",self.name)\n",
    "        print(\"My name is:\",self.age)\n",
    "        print(\"My name is:\",self.address)\n",
    "\n",
    "# Create an instance to student class\n",
    "prodip = Student()\n",
    "# call the method using the instance\n",
    "prodip.display()"
   ]
  },
  {
   "cell_type": "markdown",
   "id": "22de85e7-8d17-43d7-a293-637c80880e1a",
   "metadata": {},
   "source": [
    "### Constructor:\n",
    "- A constructor is a special method that is used to initialze the instance variables of a class."
   ]
  },
  {
   "cell_type": "code",
   "execution_count": 84,
   "id": "dce9ba29-9b90-4145-a233-7bb96aac4cbd",
   "metadata": {},
   "outputs": [
    {
     "data": {
      "text/plain": [
       "'Prodip'"
      ]
     },
     "execution_count": 84,
     "metadata": {},
     "output_type": "execute_result"
    }
   ],
   "source": [
    "class Employee:\n",
    "    def __init__(self): # the constructor has only one parameter.i.e. self\n",
    "        self.name = \"Prodip\" # instance variable\n",
    "        self.marks = 90      # instance variable\n",
    "# create instance \n",
    "e = Employee() # not passing any values to the constructor\n",
    "e.name"
   ]
  },
  {
   "cell_type": "code",
   "execution_count": 85,
   "id": "e32ae55f-4ba5-4018-8532-abb9db2b5f42",
   "metadata": {},
   "outputs": [
    {
     "data": {
      "text/plain": [
       "0"
      ]
     },
     "execution_count": 85,
     "metadata": {},
     "output_type": "execute_result"
    }
   ],
   "source": [
    "class Employee:\n",
    "    def __init__(self,n='',m=0):\n",
    "        self.name = n\n",
    "        self.marks = m\n",
    "e = Employee()\n",
    "e.marks"
   ]
  },
  {
   "cell_type": "code",
   "execution_count": 86,
   "id": "04bb55d7-d07c-4afa-9c0a-45fdfd0c4127",
   "metadata": {},
   "outputs": [
    {
     "name": "stdout",
     "output_type": "stream",
     "text": [
      "Mou\n",
      "90\n"
     ]
    }
   ],
   "source": [
    "e1 = Employee('Mou',90)\n",
    "print(e1.name)\n",
    "print(e1.marks)"
   ]
  },
  {
   "cell_type": "markdown",
   "id": "23a1b8d0-7b60-4f1a-882f-a3576d9ad13a",
   "metadata": {},
   "source": [
    "#### 2. A Python program to create Student class with a constructor having more than one parameter"
   ]
  },
  {
   "cell_type": "code",
   "execution_count": 88,
   "id": "5c34fa0b-5a5a-44c8-bd21-486513fa1bc5",
   "metadata": {},
   "outputs": [
    {
     "name": "stdout",
     "output_type": "stream",
     "text": [
      "My name is:  \n",
      "My marks is:  0\n",
      "-----------------------\n",
      "My name is:  Mou\n",
      "My marks is:  90\n",
      "-----------------------\n"
     ]
    }
   ],
   "source": [
    "# instance variable and instance method - v2.0\n",
    "class Student:\n",
    "    # this is a special method called constructor\n",
    "    def __init__(self,n = '',m=0): # called zero-parameterized constructor or default constructor\n",
    "        self.name = n\n",
    "        self.marks = m\n",
    "    # this is an instance method\n",
    "    def display(self):\n",
    "        print(\"My name is: \",self.name)\n",
    "        print(\"My marks is: \",self.marks)\n",
    "# constructor is called without any arguments\n",
    "prodip = Student()\n",
    "prodip.display()\n",
    "print('-----------------------')\n",
    "# constructor is called without 2 arguments\n",
    "mou = Student(\"Mou\",90)\n",
    "mou.display()\n",
    "print('-----------------------')"
   ]
  },
  {
   "cell_type": "code",
   "execution_count": 89,
   "id": "1db63d92-c457-4617-ac72-b1fd214f7fd6",
   "metadata": {},
   "outputs": [
    {
     "name": "stdout",
     "output_type": "stream",
     "text": [
      "My name is:  Prodip\n",
      "My marks is:  88\n",
      "-----------------------\n",
      "My name is:  Mou\n",
      "My marks is:  90\n",
      "-----------------------\n"
     ]
    }
   ],
   "source": [
    "# instance variable and instance method - v2.0\n",
    "class Student:\n",
    "    # this is a special method called constructor\n",
    "    def __init__(self,n,m): # called zero-parameterized constructor or default constructor\n",
    "        self.name = n\n",
    "        self.marks = m\n",
    "    # this is an instance method\n",
    "    def display(self):\n",
    "        print(\"My name is: \",self.name)\n",
    "        print(\"My marks is: \",self.marks)\n",
    "# constructor is called without any arguments\n",
    "prodip = Student('Prodip',88)\n",
    "prodip.display()\n",
    "print('-----------------------')\n",
    "# constructor is called without 2 arguments\n",
    "mou = Student(\"Mou\",90)\n",
    "mou.display()\n",
    "print('-----------------------')"
   ]
  },
  {
   "cell_type": "markdown",
   "id": "d2a83f01-2040-4c6c-b160-9787ca9e9ed4",
   "metadata": {},
   "source": [
    "## Types of Variables:\n",
    "- Instance Variables\n",
    "- Class Variables or Static Variables"
   ]
  },
  {
   "cell_type": "markdown",
   "id": "8174c078-317e-4f0c-a444-86b99818e776",
   "metadata": {},
   "source": [
    "#### 3. A Python program to understand instance variables"
   ]
  },
  {
   "cell_type": "code",
   "execution_count": 1,
   "id": "584c0de8-e396-499a-bc01-8ddd9eac9b82",
   "metadata": {},
   "outputs": [
    {
     "name": "stdout",
     "output_type": "stream",
     "text": [
      "x in s1=  10\n",
      "x in s2 =  10\n",
      "x in s1=  11\n",
      "x in s2 =  10\n"
     ]
    }
   ],
   "source": [
    "# instance vars example\n",
    "class Sample:\n",
    "    # this is a constructor\n",
    "    def __init__(self):\n",
    "        self.x = 10\n",
    "    # this is an instance method \n",
    "    def modify(self):\n",
    "        self.x+=1\n",
    "# create 2 instances\n",
    "s1 = Sample()\n",
    "s2 = Sample()\n",
    "\n",
    "print('x in s1= ',s1.x)\n",
    "print('x in s2 = ',s2.x)\n",
    "\n",
    "# modify in s1\n",
    "s1.modify()\n",
    "print('x in s1= ',s1.x)\n",
    "print('x in s2 = ',s2.x)"
   ]
  },
  {
   "cell_type": "markdown",
   "id": "10074ab6-4951-440d-ab4f-cec675b67ea1",
   "metadata": {},
   "source": [
    "#### 4. A Python program to understand class variables or static variables"
   ]
  },
  {
   "cell_type": "code",
   "execution_count": 2,
   "id": "3404ab97-340e-4b33-a879-58499bae777c",
   "metadata": {},
   "outputs": [
    {
     "name": "stdout",
     "output_type": "stream",
     "text": [
      "x in s1=  10\n",
      "x in s2 =  10\n",
      "x in s1=  11\n",
      "x in s2 =  11\n"
     ]
    }
   ],
   "source": [
    "# class vars or static example\n",
    "class Sample:\n",
    "    # this is class var\n",
    "    x = 10\n",
    "    # this is class method\n",
    "    @classmethod\n",
    "    def modify(cls): # cls must be the first parameter\n",
    "        cls.x+=1\n",
    "# create 2 instances\n",
    "s1 = Sample()\n",
    "s2 = Sample()\n",
    "\n",
    "print('x in s1= ',s1.x)\n",
    "print('x in s2 = ',s2.x)\n",
    "\n",
    "# modify in s1\n",
    "s1.modify()\n",
    "print('x in s1= ',s1.x)\n",
    "print('x in s2 = ',s2.x)"
   ]
  },
  {
   "cell_type": "markdown",
   "id": "0e7a99a7-9bda-4311-bef4-68d594e72a9f",
   "metadata": {},
   "source": [
    "## Types of Methods:\n",
    "1. Instance Methods\\\n",
    "    a. Accessor methods\\\n",
    "    b. Mutator methods\n",
    "2. Class Methods\n",
    "3. Static Methods"
   ]
  },
  {
   "cell_type": "markdown",
   "id": "b5a8872d-375b-4bf9-81af-29ffeb27ed7f",
   "metadata": {},
   "source": [
    "### 1. Instance Methods"
   ]
  },
  {
   "cell_type": "markdown",
   "id": "9a6217f8-4070-4c75-af83-717786ceb4e6",
   "metadata": {},
   "source": [
    "- instancename.method()"
   ]
  },
  {
   "cell_type": "markdown",
   "id": "409dadad-9642-44aa-b8bd-25051737db75",
   "metadata": {},
   "source": [
    "#### 5. A Python program using a student class with instance methods to process the data of several students"
   ]
  },
  {
   "cell_type": "code",
   "execution_count": 4,
   "id": "f608ff1f-855b-4c2c-ad2b-8add9e6b667d",
   "metadata": {},
   "outputs": [
    {
     "name": "stdin",
     "output_type": "stream",
     "text": [
      "How many students?  3\n",
      "Enter name:  Prodip\n",
      "Enter marks:  600\n"
     ]
    },
    {
     "name": "stdout",
     "output_type": "stream",
     "text": [
      "Hi Prodip\n",
      "Your marks 600\n",
      "You got first grade\n",
      "-------------------\n"
     ]
    },
    {
     "name": "stdin",
     "output_type": "stream",
     "text": [
      "Enter name:  Rahul\n",
      "Enter marks:  200\n"
     ]
    },
    {
     "name": "stdout",
     "output_type": "stream",
     "text": [
      "Hi Rahul\n",
      "Your marks 200\n",
      "You got third grade\n",
      "-------------------\n"
     ]
    },
    {
     "name": "stdin",
     "output_type": "stream",
     "text": [
      "Enter name:  Mou\n",
      "Enter marks:  900\n"
     ]
    },
    {
     "name": "stdout",
     "output_type": "stream",
     "text": [
      "Hi Mou\n",
      "Your marks 900\n",
      "You got first grade\n",
      "-------------------\n"
     ]
    }
   ],
   "source": [
    "# instance methods to process data of the objects\n",
    "class Student:\n",
    "    # this is a constructor\n",
    "    def __init__(self,n='',m=0):\n",
    "        self.name = n\n",
    "        self.marks = m\n",
    "    # this is an instance method\n",
    "    def display(self):\n",
    "        print('Hi',self.name)\n",
    "        print('Your marks',self.marks)\n",
    "    # to calculate grades based on marks\n",
    "    def calculate(self):\n",
    "        if(self.marks >=600):\n",
    "            print('You got first grade')\n",
    "        elif(self.marks >=500):\n",
    "            print('You got second grade')\n",
    "        elif(self.marks >=50):\n",
    "            print('You got third grade')\n",
    "        else:\n",
    "            print('You are failed')\n",
    "\n",
    "# Create instances with some data from keyboard\n",
    "n = int(input('How many students? '))\n",
    "i = 0\n",
    "while(i<n):\n",
    "    name = input('Enter name: ')\n",
    "    marks = int(input('Enter marks: '))\n",
    "    # Create student class instance and store data\n",
    "    s = Student(name,marks)\n",
    "    s.display()\n",
    "    s.calculate()\n",
    "    i+=1\n",
    "    print('-------------------')"
   ]
  },
  {
   "cell_type": "markdown",
   "id": "ed57abbf-bff0-4d60-8dcc-80e655244ca6",
   "metadata": {},
   "source": [
    "Accessor methods :\n",
    "- Accessor methods simply access or read data of the variables.They do not modify the data in the variables.\n",
    "- getmethod() -> getter methods"
   ]
  },
  {
   "cell_type": "code",
   "execution_count": 5,
   "id": "adcce5c1-256c-4b8c-98d4-11bdb4c044d0",
   "metadata": {},
   "outputs": [],
   "source": [
    "def getName(self):\n",
    "    return self.name"
   ]
  },
  {
   "cell_type": "markdown",
   "id": "d6c19a15-9c2c-49a2-922f-d3d9bfe3c934",
   "metadata": {},
   "source": [
    "Mutator methods:\n",
    "- Mutator methods are the methods which not only read the data but also modify them.\n",
    "- setmethod -> setter methods"
   ]
  },
  {
   "cell_type": "code",
   "execution_count": 6,
   "id": "62d7e030-a400-4690-83cc-e36bdafca760",
   "metadata": {},
   "outputs": [],
   "source": [
    "def setName(self,name):\n",
    "    self.name = name    "
   ]
  },
  {
   "cell_type": "markdown",
   "id": "95fe156e-1c8d-4a49-b507-a12a18947b76",
   "metadata": {},
   "source": [
    "#### 6. A Python to store data into instance using Mutator methods and retrieve data from the instances using Accessor methods"
   ]
  },
  {
   "cell_type": "code",
   "execution_count": 7,
   "id": "c0035d3d-3f4f-4b2b-a143-f1d0427067a5",
   "metadata": {},
   "outputs": [
    {
     "name": "stdin",
     "output_type": "stream",
     "text": [
      "How many students?  3\n",
      "Enter name:  Prodip\n",
      "Enter marks:  300\n"
     ]
    },
    {
     "name": "stdout",
     "output_type": "stream",
     "text": [
      "Hi Prodip\n",
      "Your marks 300\n",
      "-----------------------\n"
     ]
    },
    {
     "name": "stdin",
     "output_type": "stream",
     "text": [
      "Enter name:  Mou\n",
      "Enter marks:  900\n"
     ]
    },
    {
     "name": "stdout",
     "output_type": "stream",
     "text": [
      "Hi Mou\n",
      "Your marks 900\n",
      "-----------------------\n"
     ]
    },
    {
     "name": "stdin",
     "output_type": "stream",
     "text": [
      "Enter name:  Raju\n",
      "Enter marks:  600\n"
     ]
    },
    {
     "name": "stdout",
     "output_type": "stream",
     "text": [
      "Hi Raju\n",
      "Your marks 600\n",
      "-----------------------\n"
     ]
    }
   ],
   "source": [
    "# accessor and mutator methods\n",
    "class Student:\n",
    "    # mutator method\n",
    "    def setName(self,name):\n",
    "        self.name = name\n",
    "    # accessor method\n",
    "    def getName(self):\n",
    "        return self.name\n",
    "    def setMarks(self,marks):\n",
    "        self.marks = marks\n",
    "    # accessor method\n",
    "    def getMarks(self):\n",
    "        return self.marks\n",
    "\n",
    "# Create instances with some data from keyboard\n",
    "n = int(input('How many students? '))\n",
    "i = 0\n",
    "while(i<n):\n",
    "    # create Student class instance\n",
    "    s = Student()\n",
    "    # store name and marks into s using setter methods\n",
    "    name = input('Enter name: ')\n",
    "    s.setName(name)\n",
    "    marks = int(input('Enter marks: '))\n",
    "    s.setMarks(marks)\n",
    "\n",
    "    # retrieve data from s using getter methods\n",
    "    print('Hi',s.getName())\n",
    "    print('Your marks',s.getMarks())\n",
    "    i+=1\n",
    "    print('-----------------------')"
   ]
  },
  {
   "cell_type": "markdown",
   "id": "95436bd2-b58b-43d6-a2eb-87f85c9effeb",
   "metadata": {},
   "source": [
    "## 2. Class Methods:\n",
    "- These methods act on class level.\n",
    "- Class methods are the methods which act on the class variables or static variables.\n",
    "- first parameter for class method is 'cls'.\n",
    "- @classmethod\n",
    "- cls.var\n",
    "- classname.method()"
   ]
  },
  {
   "cell_type": "markdown",
   "id": "1ceb1a20-33c4-46d8-a8e9-a1a2ebd0cd42",
   "metadata": {},
   "source": [
    "#### 7. A Python program to use class method to handle the common feature of all the instances of Bird Class"
   ]
  },
  {
   "cell_type": "code",
   "execution_count": 11,
   "id": "be3c7c83-c2c1-468a-a346-448dde32d2af",
   "metadata": {},
   "outputs": [
    {
     "name": "stdout",
     "output_type": "stream",
     "text": [
      "Sparrow flies with 2 wings\n",
      "Pigeon flies with 2 wings\n"
     ]
    }
   ],
   "source": [
    "class Bird:\n",
    "    # this is a class var\n",
    "    wings = 2\n",
    "    # this is class method\n",
    "    @classmethod\n",
    "    def fly(cls,name):\n",
    "        print('{} flies with {} wings'.format(name,cls.wings))\n",
    "\n",
    "# display information for 2 birds\n",
    "Bird.fly('Sparrow')\n",
    "Bird.fly('Pigeon')"
   ]
  },
  {
   "cell_type": "markdown",
   "id": "4b8ea59e-df16-4685-b8d3-a5dea187f2c6",
   "metadata": {},
   "source": [
    "## 2. Static Methods:\n",
    "\n",
    "- Static methods do not require class or objects,we can design them in such way that we can pass some data and get back the results.\n",
    "- Static methoods do not have default first parameter like cls or self\n",
    "- @staticmethod\n",
    "- classname.method()\n"
   ]
  },
  {
   "cell_type": "markdown",
   "id": "5a2972e8-f615-4167-b464-b9bb3053c963",
   "metadata": {},
   "source": [
    "#### 8. A Python program to create a static method that counts the number of instances created for a class"
   ]
  },
  {
   "cell_type": "code",
   "execution_count": 14,
   "id": "be06ef5c-99a8-4a63-9bce-fd342fa4c08d",
   "metadata": {},
   "outputs": [
    {
     "name": "stdout",
     "output_type": "stream",
     "text": [
      "No of instances created:  5\n"
     ]
    }
   ],
   "source": [
    "class MyClass:\n",
    "    # this is class var or static var\n",
    "    n = 0\n",
    "    # constructor that increments n when an instance is created\n",
    "    def __init__(self):\n",
    "        MyClass.n = MyClass.n+1\n",
    "    # this is a static method to display the no of intances\n",
    "    @staticmethod\n",
    "    def noObjects():\n",
    "        print('No of instances created: ',MyClass.n)\n",
    "\n",
    "# create 5 instances\n",
    "obj1 = MyClass()\n",
    "obj2 = MyClass()\n",
    "obj3 = MyClass()\n",
    "obj4 = MyClass()\n",
    "obj5 = MyClass()\n",
    "MyClass.noObjects()"
   ]
  },
  {
   "cell_type": "markdown",
   "id": "880df5d5-ea1b-4b4e-ae0f-f3e0c3cdbcd4",
   "metadata": {},
   "source": [
    "#### 9. A Python Program to create a static method that calculates the square root value of a given number"
   ]
  },
  {
   "cell_type": "code",
   "execution_count": 17,
   "id": "a97e9db9-70a8-4be1-a034-a72ff43c2ac3",
   "metadata": {},
   "outputs": [
    {
     "name": "stdin",
     "output_type": "stream",
     "text": [
      "Enter the number : 25\n"
     ]
    },
    {
     "name": "stdout",
     "output_type": "stream",
     "text": [
      "The square root of 25.0 is 5.00\n"
     ]
    }
   ],
   "source": [
    "import math\n",
    "class Sample:\n",
    "    @staticmethod\n",
    "    def calculate(x):\n",
    "        result = math.sqrt(x)\n",
    "        return result\n",
    "\n",
    "# accept a number from keyboard\n",
    "num = float(input('Enter the number :'))\n",
    "# call the static method and pass num\n",
    "res = Sample.calculate(num)\n",
    "print('The square root of {} is {:.2f}'.format(num,res))"
   ]
  },
  {
   "cell_type": "code",
   "execution_count": null,
   "id": "e2da1784-33ce-4a65-b08f-a60a7374d9db",
   "metadata": {},
   "outputs": [],
   "source": []
  }
 ],
 "metadata": {
  "kernelspec": {
   "display_name": "Python 3 (ipykernel)",
   "language": "python",
   "name": "python3"
  },
  "language_info": {
   "codemirror_mode": {
    "name": "ipython",
    "version": 3
   },
   "file_extension": ".py",
   "mimetype": "text/x-python",
   "name": "python",
   "nbconvert_exporter": "python",
   "pygments_lexer": "ipython3",
   "version": "3.11.7"
  }
 },
 "nbformat": 4,
 "nbformat_minor": 5
}
